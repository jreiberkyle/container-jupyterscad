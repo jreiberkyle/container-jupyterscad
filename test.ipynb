{
 "cells": [
  {
   "cell_type": "markdown",
   "id": "2293aa23-56a4-45ac-a3b8-781268de87aa",
   "metadata": {},
   "source": [
    "# Test\n",
    "\n",
    "Ensure that solid2 and viewscad work and that the notebook can write to the local directory."
   ]
  },
  {
   "cell_type": "code",
   "execution_count": 1,
   "id": "9db85cc8-6475-4ab7-bbd4-cce0c4262898",
   "metadata": {},
   "outputs": [
    {
     "name": "stderr",
     "output_type": "stream",
     "text": [
      "OpenBLAS WARNING - could not determine the L2 cache size on this system, assuming 256k\n"
     ]
    },
    {
     "ename": "ImportError",
     "evalue": "cannot import name 'visualize' from 'jupyterscad' (/tmp/jupyterscad/jupyterscad/__init__.py)",
     "output_type": "error",
     "traceback": [
      "\u001b[0;31m---------------------------------------------------------------------------\u001b[0m",
      "\u001b[0;31mImportError\u001b[0m                               Traceback (most recent call last)",
      "Cell \u001b[0;32mIn[1], line 3\u001b[0m\n\u001b[1;32m      1\u001b[0m \u001b[38;5;28;01mfrom\u001b[39;00m \u001b[38;5;21;01msolid2\u001b[39;00m \u001b[38;5;28;01mimport\u001b[39;00m \u001b[38;5;241m*\u001b[39m\n\u001b[0;32m----> 3\u001b[0m \u001b[38;5;28;01mfrom\u001b[39;00m \u001b[38;5;21;01mjupyterscad\u001b[39;00m \u001b[38;5;28;01mimport\u001b[39;00m visualize\n\u001b[1;32m      5\u001b[0m render(cube(\u001b[38;5;241m1\u001b[39m), grid_unit\u001b[38;5;241m=\u001b[39m\u001b[38;5;241m.2\u001b[39m, outfile\u001b[38;5;241m=\u001b[39m\u001b[38;5;124m'\u001b[39m\u001b[38;5;124mcube.stl\u001b[39m\u001b[38;5;124m'\u001b[39m, width\u001b[38;5;241m=\u001b[39m\u001b[38;5;241m200\u001b[39m, height\u001b[38;5;241m=\u001b[39m\u001b[38;5;241m200\u001b[39m)\n",
      "\u001b[0;31mImportError\u001b[0m: cannot import name 'visualize' from 'jupyterscad' (/tmp/jupyterscad/jupyterscad/__init__.py)"
     ]
    }
   ],
   "source": [
    "from solid2 import *\n",
    "\n",
    "from jupyterscad import visualize\n",
    "\n",
    "render(cube(1), grid_unit=.2, outfile='cube.stl', width=200, height=200)"
   ]
  },
  {
   "cell_type": "code",
   "execution_count": null,
   "id": "a43deec3-5204-4658-851a-9e87f1874346",
   "metadata": {},
   "outputs": [],
   "source": []
  }
 ],
 "metadata": {
  "kernelspec": {
   "display_name": "Python 3 (ipykernel)",
   "language": "python",
   "name": "python3"
  },
  "language_info": {
   "codemirror_mode": {
    "name": "ipython",
    "version": 3
   },
   "file_extension": ".py",
   "mimetype": "text/x-python",
   "name": "python",
   "nbconvert_exporter": "python",
   "pygments_lexer": "ipython3",
   "version": "3.11.5"
  }
 },
 "nbformat": 4,
 "nbformat_minor": 5
}
